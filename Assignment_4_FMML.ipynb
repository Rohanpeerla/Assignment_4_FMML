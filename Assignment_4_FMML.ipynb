{
  "nbformat": 4,
  "nbformat_minor": 0,
  "metadata": {
    "colab": {
      "provenance": [],
      "authorship_tag": "ABX9TyOK2S13uskE3CqlQje8zlIL",
      "include_colab_link": true
    },
    "kernelspec": {
      "name": "python3",
      "display_name": "Python 3"
    },
    "language_info": {
      "name": "python"
    }
  },
  "cells": [
    {
      "cell_type": "markdown",
      "metadata": {
        "id": "view-in-github",
        "colab_type": "text"
      },
      "source": [
        "<a href=\"https://colab.research.google.com/github/Rohanpeerla/Assignment_4_FMML/blob/master/Assignment_4_FMML.ipynb\" target=\"_parent\"><img src=\"https://colab.research.google.com/assets/colab-badge.svg\" alt=\"Open In Colab\"/></a>"
      ]
    },
    {
      "cell_type": "code",
      "execution_count": null,
      "metadata": {
        "id": "dRqM9T6jtEsw"
      },
      "outputs": [],
      "source": [
        "#Question 1 Experiment with different transformation matrices and check the accuracy"
      ]
    },
    {
      "cell_type": "markdown",
      "source": [
        "To experiment with different transformation matrices and check accuracy,we can use following steps:\n",
        "\n",
        "Choose a set of points to transform. These points can be in any dimension, but for simplicity, we will use 2D points.\n",
        "Choose a transformation matrix to apply to the points. There are many different types of transformation matrices, such as translation, rotation, scaling, and reflection matrices.\n",
        "Apply the transformation matrix to the points. This can be done by multiplying the matrix and the points.\n",
        "Plot the transformed points on a graph.\n",
        "Compare the transformed points to the original points to see how the transformation has affected them.\n",
        "For example, let's say we want to translate a set of points by (10, 20). We can use the following transformation matrix:\n",
        "\n",
        "T = [[1, 0, 10],\n",
        "      [0, 1, 20],\n",
        "      [0, 0, 1]]\n",
        "To apply the transformation matrix to the points, we simply multiply the matrix and the points:\n",
        "\n",
        "transformed_points = T * original_points\n",
        "Once we have the transformed points, we can plot them on a graph to see how the transformation has affected them.\n",
        "\n",
        "We can also check the accuracy of the transformation by comparing the transformed points to the original points. For example, we can calculate the Euclidean distance between each transformed point and its corresponding original point. If the Euclidean distance is small, then the transformation is accurate.\n",
        "\n",
        "\n",
        "\n"
      ],
      "metadata": {
        "id": "3r8kkNtFtRYL"
      }
    },
    {
      "cell_type": "code",
      "source": [
        "import numpy as np\n",
        "import matplotlib.pyplot as plt\n",
        "\n",
        "original_points = np.array([[0, 0, 1], [1, 1, 1], [2, 2, 1]])\n",
        "\n",
        "T = np.array([[1, 0, 10],\n",
        "              [0, 1, 20],\n",
        "              [0, 0, 1]])\n",
        "\n",
        "transformed_points = original_points @ T\n",
        "\n",
        "plt.plot(transformed_points[:, 0], transformed_points[:, 1], 'o')\n",
        "\n",
        "euclidean_distances = np.linalg.norm(transformed_points - original_points, axis=1)\n",
        "\n",
        "print(euclidean_distances)\n"
      ],
      "metadata": {
        "colab": {
          "base_uri": "https://localhost:8080/",
          "height": 447
        },
        "id": "KIWeGBAQuIrt",
        "outputId": "055583a3-8243-4044-dc68-dd4ed1579db6"
      },
      "execution_count": 12,
      "outputs": [
        {
          "output_type": "stream",
          "name": "stdout",
          "text": [
            "[ 0. 30. 60.]\n"
          ]
        },
        {
          "output_type": "display_data",
          "data": {
            "text/plain": [
              "<Figure size 640x480 with 1 Axes>"
            ],
            "image/png": "[encoded data removed]"
          },
          "metadata": {}
        }
      ]
    },
    {
      "cell_type": "code",
      "source": [
        "#Question 2 Will the same transform used for these two features also work for other features?"
      ],
      "metadata": {
        "id": "EJzlVNK2vkgW"
      },
      "execution_count": null,
      "outputs": []
    },
    {
      "cell_type": "markdown",
      "source": [
        "The transformation matrix T is a 2D affine transformation matrix. It includes translations (the last column of the matrix), but it doesn't include any scaling or rotation components. If you want to apply the same transformation to other 2D points, it will perform the same translation for those points.\n",
        "\n",
        "However, if need to include scaling or rotation, you would need to modify the transformation matrix accordingly. For example, a more general 2D affine transformation matrix looks like this:\n",
        "\n",
        "T=\n",
        "⎣\n",
        "⎡\n",
        "​\n",
        "  \n",
        "a\n",
        "d\n",
        "0\n",
        "​\n",
        "  \n",
        "b\n",
        "e\n",
        "0\n",
        "​\n",
        "  \n",
        "c\n",
        "f\n",
        "1\n",
        "​\n",
        "  \n",
        "⎦\n",
        "⎤\n",
        "​\n",
        "\n",
        "Here,\n",
        "�\n",
        "a and\n",
        "�\n",
        "e are scaling factors, and\n",
        "�\n",
        "c,\n",
        "�\n",
        "f are the translation components. If you want to include rotation, you would introduce\n",
        "�\n",
        "θ (rotation angle) in the matrix."
      ],
      "metadata": {
        "id": "vnEQLrd8wQ2k"
      }
    }
  ]
}